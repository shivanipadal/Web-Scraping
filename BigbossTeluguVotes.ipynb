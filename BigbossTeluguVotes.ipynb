{
  "nbformat": 4,
  "nbformat_minor": 0,
  "metadata": {
    "colab": {
      "name": "Bigboss.ipynb",
      "provenance": [],
      "authorship_tag": "ABX9TyO476U1Sp5kftCh1kOjC3KQ",
      "include_colab_link": true
    },
    "kernelspec": {
      "name": "python3",
      "display_name": "Python 3"
    }
  },
  "cells": [
    {
      "cell_type": "markdown",
      "metadata": {
        "id": "view-in-github",
        "colab_type": "text"
      },
      "source": [
        "<a href=\"https://colab.research.google.com/github/shivanipadal/Web-Scraping/blob/main/BigbossTeluguVotes.ipynb\" target=\"_parent\"><img src=\"https://colab.research.google.com/assets/colab-badge.svg\" alt=\"Open In Colab\"/></a>"
      ]
    },
    {
      "cell_type": "code",
      "metadata": {
        "id": "IeukaskBdonn"
      },
      "source": [
        "import requests\n",
        "from bs4 import BeautifulSoup\n"
      ],
      "execution_count": 68,
      "outputs": []
    },
    {
      "cell_type": "code",
      "metadata": {
        "id": "xOk-NUPKd2mE"
      },
      "source": [
        "url=\"https://www.biggbossteluguvoteonline.in/\"\n",
        "\n",
        "BigBoss=requests.get(url)\n",
        "\n",
        "soup=BeautifulSoup(BigBoss.text)\n",
        "print(soup)"
      ],
      "execution_count": null,
      "outputs": []
    },
    {
      "cell_type": "code",
      "metadata": {
        "id": "9i3wWyXEeSbP"
      },
      "source": [
        "uiname=soup.findAll('ul')\n",
        "#print(uiname)\n",
        "links=soup.findAll('li')\n",
        "print(links)"
      ],
      "execution_count": null,
      "outputs": []
    },
    {
      "cell_type": "code",
      "metadata": {
        "id": "KE6hSmVbkkIx"
      },
      "source": [
        "import re\n",
        "pat=re.compile(\"votes\")\n",
        "names=[]\n",
        "vote=[]\n",
        "\n",
        "for items in links :\n",
        "  text=items.text\n",
        "  if re.search(pat,text) :\n",
        "    if re.search('%',text) :\n",
        "      print(text)\n",
        "      name=text.split(\":\")[0]\n",
        "      votes=re.search('(\\d+ votes)',text.split(\":\")[1])\n",
        "      #print(votes.groups())\n",
        "      novotes=votes.groups()[0].split()[0]\n",
        "      #print(novotes)\n",
        "      names.append(name)\n",
        "      vote.append(novotes)\n",
        "\n",
        "print(names)\n",
        "print(vote)\n"
      ],
      "execution_count": null,
      "outputs": []
    },
    {
      "cell_type": "code",
      "metadata": {
        "id": "sLlVvb4ui__D"
      },
      "source": [
        "import pandas as pd\n",
        "rows=[]\n",
        "rows.append(names)\n",
        "rows.append(vote)\n",
        "\n",
        "df=pd.DataFrame(rows)\n",
        "\n",
        "print(df)"
      ],
      "execution_count": null,
      "outputs": []
    },
    {
      "cell_type": "code",
      "metadata": {
        "id": "z7IWry67h8Uk",
        "outputId": "0efd14a9-b5f7-4eb8-c108-616fa2c7da55",
        "colab": {
          "base_uri": "https://localhost:8080/",
          "height": 248
        }
      },
      "source": [
        "import matplotlib.pyplot as plt\n",
        "explode = (0.1, 0, 0, 0,0,0) \n",
        "\n",
        "colours=['gold', 'yellowgreen', 'lightcoral', 'lightskyblue','pink','red']\n",
        "plt.pie(vote,labels=names,explode=explode,colors=colours,autopct='%1.1f%%',shadow=True,startangle=140)\n",
        "#plt.axis('equal')\n",
        "plt.show()\n"
      ],
      "execution_count": 73,
      "outputs": [
        {
          "output_type": "display_data",
          "data": {
            "image/png": "[encoded data removed]",
            "text/plain": [
              "<Figure size 432x288 with 1 Axes>"
            ]
          },
          "metadata": {
            "tags": []
          }
        }
      ]
    },
    {
      "cell_type": "code",
      "metadata": {
        "id": "p3pFo0SKgAX-"
      },
      "source": [
        ""
      ],
      "execution_count": 73,
      "outputs": []
    },
    {
      "cell_type": "code",
      "metadata": {
        "id": "VTMx9IObfWtO"
      },
      "source": [
        ""
      ],
      "execution_count": 73,
      "outputs": []
    },
    {
      "cell_type": "code",
      "metadata": {
        "id": "Xrex2mBSezqk"
      },
      "source": [
        ""
      ],
      "execution_count": 73,
      "outputs": []
    },
    {
      "cell_type": "code",
      "metadata": {
        "id": "wblauS8des6D"
      },
      "source": [
        ""
      ],
      "execution_count": 73,
      "outputs": []
    },
    {
      "cell_type": "code",
      "metadata": {
        "id": "3lEm0e8Qenck"
      },
      "source": [
        ""
      ],
      "execution_count": 73,
      "outputs": []
    }
  ]
}